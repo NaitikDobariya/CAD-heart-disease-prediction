{
 "cells": [
  {
   "cell_type": "code",
   "execution_count": 1,
   "metadata": {},
   "outputs": [],
   "source": [
    "import tensorflow as tf\n",
    "import numpy as np\n",
    "import wfdb\n",
    "import pywt\n",
    "import os\n",
    "\n",
    "from sklearn.model_selection import train_test_split\n",
    "\n",
    "import matplotlib.pyplot as plt\n",
    "plt.style.use(\"seaborn\")"
   ]
  },
  {
   "cell_type": "code",
   "execution_count": 2,
   "metadata": {},
   "outputs": [],
   "source": [
    "sig_len = 1280"
   ]
  },
  {
   "attachments": {},
   "cell_type": "markdown",
   "metadata": {},
   "source": [
    "#### Helper functions"
   ]
  },
  {
   "cell_type": "code",
   "execution_count": 3,
   "metadata": {},
   "outputs": [],
   "source": [
    "# Function to read the data from a given path to the .hea file\n",
    "def read_data(path,type):\n",
    "    signals, fields = wfdb.rdsamp(path,sampfrom=0)\n",
    "    if(type==\"normal\"):\n",
    "        data_array = signals.T[1]\n",
    "    if(type==\"cad\"):\n",
    "        data_array = signals.T[0]\n",
    "\n",
    "    # Returns a data array of length that is a multiple of sig_len\n",
    "    return data_array[:sig_len*int(data_array.shape[0]/sig_len)]\n",
    "\n",
    "# Does wavelet transform to denoise the entire data array\n",
    "def wavelet_transform(data_array):\n",
    "    coefficient = pywt.wavedec(data_array,wavelet='db6',level=5)\n",
    "    coefficient[0] = np.zeros_like(coefficient[0])\n",
    "    transformed_signal = pywt.waverec(coefficient,wavelet='db6')\n",
    "\n",
    "    data_array = transformed_signal\n",
    "\n",
    "# Reshapes data array such that each row becomes signal segment of length sig_len\n",
    "def reshape_data(data_array):\n",
    "    return data_array.reshape(int(data_array.shape[0]/sig_len),sig_len)\n",
    "\n",
    "# Does the preprocessing on the data segment of length sig_len\n",
    "def augment_signal(data_array):\n",
    "    # Normalization\n",
    "    data_array = np.array((data_array-np.mean(data_array))/np.std(data_array))\n",
    "\n",
    "    # Generate random sinusoidal noise signal\n",
    "    starting_phase = np.random.uniform(-180, -90)\n",
    "    # ending_phase = np.random.uniform(90, 180)      # I am not using this ending phase part here\n",
    "    amplitude = np.random.uniform(-2, 2)\n",
    "    time = np.arange(data_array.shape[0])  \n",
    "    sinusoidal_noise_signal = amplitude * np.sin(2 * np.pi * time + np.radians(starting_phase))\n",
    "\n",
    "    # Generate random Gaussian noise signal\n",
    "    gaussian_noise_signal = np.random.normal(0, 0.05, len(data_array))\n",
    "\n",
    "    data_array = data_array + sinusoidal_noise_signal + gaussian_noise_signal\n",
    "\n",
    "# Converts the linear signal of shape (1280,) to an image of shape(211,24)\n",
    "def make_img(data_array):\n",
    "    result = []\n",
    "    idx=0\n",
    "    for i in range(0,24):\n",
    "        result.append(data_array[idx:idx+211])\n",
    "        idx+=40\n",
    "\n",
    "    return np.array(result).T"
   ]
  },
  {
   "attachments": {},
   "cell_type": "markdown",
   "metadata": {},
   "source": [
    "#### Reading the data"
   ]
  },
  {
   "cell_type": "code",
   "execution_count": 4,
   "metadata": {},
   "outputs": [
    {
     "data": {
      "text/plain": [
       "'  There are 39 normal candidates and 9 CAD diagnosed candidate in our data   '"
      ]
     },
     "execution_count": 4,
     "metadata": {},
     "output_type": "execute_result"
    }
   ],
   "source": [
    "# Path to the data files\n",
    "# Path to CAD ECG data\n",
    "path1 = r\"C:\\Users\\123na\\Downloads\\Heart Disease prediction\\Data\\CAD\"\n",
    "# Path to normal ECG data\n",
    "path2 = r\"C:\\Users\\123na\\Downloads\\Heart Disease prediction\\Data\\fantasia-database-1.0.0\" \n",
    "\n",
    "list1 = os.listdir(path1)    # File list in directory at path1\n",
    "list2 = os.listdir(path2)    # File list in directory at path2\n",
    "\n",
    "list1 = [x for x in list1 if x[-4:]==\".hea\"]         # files in list1 ending with \".hea\"\n",
    "list1 = [x[:3] for x in list1]                       # removes \".hea\" from files names in list1\n",
    "path_cad = [os.path.join(path1,x) for x in list1]    # joins path1 with filenames in list1\n",
    "\n",
    "list2 = [x for x in list2 if x[-4:]==\".hea\"]         # files in list2 ending with \".hea\"\n",
    "list2 = [x[:5] for x in list2]                       # removes \".hea\" from files names in list2\n",
    "path_normal = [os.path.join(path2,x) for x in list2] # joins path2 with filenames in list2\n",
    "\n",
    "'''  There are 39 normal candidates and 9 CAD diagnosed candidate in our data   '''"
   ]
  },
  {
   "cell_type": "code",
   "execution_count": 5,
   "metadata": {},
   "outputs": [],
   "source": [
    "import random\n",
    "path_cad = random.sample(path_cad,5)         # Picking 5 random samples from CAD diagnosed data\n",
    "path_normal = random.sample(path_normal,15)  # Picking 15 random samples from normal data "
   ]
  },
  {
   "cell_type": "code",
   "execution_count": 6,
   "metadata": {},
   "outputs": [],
   "source": [
    "# Reading the data seperately to pick the proportion of the CAD and normal data \n",
    "\n",
    "# Reading the CAD data first\n",
    "cad_data = []\n",
    "cad_label = []\n",
    "for i, idx in enumerate(path_cad):\n",
    "    # Read the data\n",
    "    data = read_data(idx,type=\"cad\")\n",
    "\n",
    "    # Performing wavelet transform on the entire data\n",
    "    wavelet_transform(data)\n",
    "\n",
    "    #Reshape data array\n",
    "    data = reshape_data(data)\n",
    "    for row in data:\n",
    "        augment_signal(row)\n",
    "        image = make_img(row)\n",
    "        if(np.sum(np.isnan(image))==0): # We are getting some NaN values while reading data, we would just ignore data points that has NaN values\n",
    "            cad_data.append(image)\n",
    "            cad_label.append([1])\n",
    "\n",
    "cad_data = np.array(cad_data)\n",
    "cad_label = np.array(cad_label)\n",
    "\n",
    "\n",
    "\n",
    "# Reading the normal data\n",
    "normal_data = []\n",
    "normal_label = []\n",
    "for i, idx in enumerate(path_normal):\n",
    "    # Read the data\n",
    "    data = read_data(idx,type=\"normal\")\n",
    "\n",
    "    # Performing wavelet transform on the entire data\n",
    "    wavelet_transform(data)\n",
    "\n",
    "    #Reshape data array\n",
    "    data = reshape_data(data)\n",
    "    for row in data:\n",
    "        augment_signal(row)\n",
    "        image = make_img(row)\n",
    "        if(np.sum(np.isnan(image))==0):  # We are getting some NaN values while reading data, we would just ignore those NaN producing elements\n",
    "            normal_data.append(image)\n",
    "            normal_label.append([0])\n",
    "\n",
    "normal_data = np.array(normal_data)\n",
    "normal_label = np.array(normal_label)"
   ]
  },
  {
   "cell_type": "code",
   "execution_count": 7,
   "metadata": {},
   "outputs": [
    {
     "name": "stdout",
     "output_type": "stream",
     "text": [
      "(1805, 211, 24) (20966, 211, 24)\n"
     ]
    }
   ],
   "source": [
    "print(cad_data.shape,normal_data.shape)"
   ]
  },
  {
   "cell_type": "code",
   "execution_count": 8,
   "metadata": {},
   "outputs": [],
   "source": [
    "np.random.shuffle(cad_data)       # Shuffling the data before taking a subset of the data\n",
    "np.random.shuffle(normal_data)    # Shuffling the normal data also"
   ]
  },
  {
   "cell_type": "code",
   "execution_count": 9,
   "metadata": {},
   "outputs": [],
   "source": [
    "# Combining the data and the labels by concatinating them\n",
    "X = np.concatenate([cad_data,normal_data])\n",
    "Y = np.concatenate([cad_label,normal_label])\n",
    "\n",
    "# Schuffling the data final time\n",
    "\n",
    "indices = np.arange(X.shape[0])\n",
    "np.random.shuffle(indices)\n",
    "\n",
    "X = X[indices]\n",
    "Y = Y[indices]\n",
    "\n",
    "Y = tf.keras.utils.to_categorical(Y)"
   ]
  },
  {
   "cell_type": "code",
   "execution_count": 10,
   "metadata": {},
   "outputs": [],
   "source": [
    "Xtrain, Xtest, Ytrain, Ytest = train_test_split(X,Y,test_size=0.2,shuffle=True)"
   ]
  },
  {
   "attachments": {},
   "cell_type": "markdown",
   "metadata": {},
   "source": [
    "#### Training the model"
   ]
  },
  {
   "cell_type": "code",
   "execution_count": 11,
   "metadata": {},
   "outputs": [],
   "source": [
    "model = tf.keras.Sequential()\n",
    "model.add(tf.keras.Input(shape=(211,24)))\n",
    "model.add(tf.keras.layers.Conv1D(filters=40,kernel_size=(5),strides=1))\n",
    "model.add(tf.keras.layers.MaxPool1D(pool_size=2,strides=2,padding=\"valid\"))\n",
    "model.add(tf.keras.layers.Conv1D(filters=32,kernel_size=(3),strides=1))\n",
    "model.add(tf.keras.layers.MaxPool1D(pool_size=2,strides=2,padding=\"valid\"))\n",
    "model.add(tf.keras.layers.LSTM(units=32,return_sequences=True,recurrent_dropout=0.25,dropout=0.5))\n",
    "model.add(tf.keras.layers.LSTM(units=16,return_sequences=True,recurrent_dropout=0.25))\n",
    "model.add(tf.keras.layers.LSTM(units=4,return_sequences=False))\n",
    "model.add(tf.keras.layers.Dense(2,activation=\"softmax\"))"
   ]
  },
  {
   "cell_type": "code",
   "execution_count": 12,
   "metadata": {},
   "outputs": [
    {
     "name": "stdout",
     "output_type": "stream",
     "text": [
      "Model: \"sequential\"\n",
      "_________________________________________________________________\n",
      " Layer (type)                Output Shape              Param #   \n",
      "=================================================================\n",
      " conv1d (Conv1D)             (None, 207, 40)           4840      \n",
      "                                                                 \n",
      " max_pooling1d (MaxPooling1D  (None, 103, 40)          0         \n",
      " )                                                               \n",
      "                                                                 \n",
      " conv1d_1 (Conv1D)           (None, 101, 32)           3872      \n",
      "                                                                 \n",
      " max_pooling1d_1 (MaxPooling  (None, 50, 32)           0         \n",
      " 1D)                                                             \n",
      "                                                                 \n",
      " lstm (LSTM)                 (None, 50, 32)            8320      \n",
      "                                                                 \n",
      " lstm_1 (LSTM)               (None, 50, 16)            3136      \n",
      "                                                                 \n",
      " lstm_2 (LSTM)               (None, 4)                 336       \n",
      "                                                                 \n",
      " dense (Dense)               (None, 2)                 10        \n",
      "                                                                 \n",
      "=================================================================\n",
      "Total params: 20,514\n",
      "Trainable params: 20,514\n",
      "Non-trainable params: 0\n",
      "_________________________________________________________________\n"
     ]
    }
   ],
   "source": [
    "model.summary()"
   ]
  },
  {
   "cell_type": "code",
   "execution_count": 13,
   "metadata": {},
   "outputs": [],
   "source": [
    "model.compile(optimizer=tf.keras.optimizers.Adam(learning_rate=1e-6),\n",
    "              loss=tf.keras.losses.BinaryCrossentropy(),\n",
    "              metrics=[tf.keras.metrics.BinaryAccuracy(),tf.keras.metrics.Precision(),tf.keras.metrics.Recall()])"
   ]
  },
  {
   "cell_type": "code",
   "execution_count": 14,
   "metadata": {},
   "outputs": [
    {
     "name": "stdout",
     "output_type": "stream",
     "text": [
      "Epoch 1/16\n",
      "1215/1215 [==============================] - 91s 64ms/step - loss: 0.7005 - binary_accuracy: 0.4494 - precision: 0.4494 - recall: 0.4494\n",
      "Epoch 2/16\n",
      "1215/1215 [==============================] - 86s 71ms/step - loss: 0.6781 - binary_accuracy: 0.7746 - precision: 0.7746 - recall: 0.7746\n",
      "Epoch 3/16\n",
      "1215/1215 [==============================] - 88s 73ms/step - loss: 0.6605 - binary_accuracy: 0.8479 - precision: 0.8479 - recall: 0.8479\n",
      "Epoch 4/16\n",
      "1215/1215 [==============================] - 92s 76ms/step - loss: 0.6467 - binary_accuracy: 0.8953 - precision: 0.8953 - recall: 0.8953\n",
      "Epoch 5/16\n",
      "1215/1215 [==============================] - 90s 74ms/step - loss: 0.6358 - binary_accuracy: 0.9276 - precision: 0.9276 - recall: 0.9276\n",
      "Epoch 6/16\n",
      "1215/1215 [==============================] - 92s 76ms/step - loss: 0.6279 - binary_accuracy: 0.9458 - precision: 0.9458 - recall: 0.9458\n",
      "Epoch 7/16\n",
      "1215/1215 [==============================] - 91s 75ms/step - loss: 0.6219 - binary_accuracy: 0.9519 - precision: 0.9519 - recall: 0.9519\n",
      "Epoch 8/16\n",
      "1215/1215 [==============================] - 91s 75ms/step - loss: 0.6165 - binary_accuracy: 0.9535 - precision: 0.9535 - recall: 0.9535\n",
      "Epoch 9/16\n",
      "1215/1215 [==============================] - 92s 76ms/step - loss: 0.6110 - binary_accuracy: 0.9539 - precision: 0.9539 - recall: 0.9539\n",
      "Epoch 10/16\n",
      "1215/1215 [==============================] - 93s 76ms/step - loss: 0.6053 - binary_accuracy: 0.9539 - precision: 0.9539 - recall: 0.9539\n",
      "Epoch 11/16\n",
      "1215/1215 [==============================] - 93s 77ms/step - loss: 0.5993 - binary_accuracy: 0.9539 - precision: 0.9539 - recall: 0.9539\n",
      "Epoch 12/16\n",
      "1215/1215 [==============================] - 97s 80ms/step - loss: 0.5930 - binary_accuracy: 0.9537 - precision: 0.9537 - recall: 0.9537\n",
      "Epoch 13/16\n",
      "1215/1215 [==============================] - 120s 99ms/step - loss: 0.5862 - binary_accuracy: 0.9534 - precision: 0.9534 - recall: 0.9534\n",
      "Epoch 14/16\n",
      "1215/1215 [==============================] - 105s 87ms/step - loss: 0.5792 - binary_accuracy: 0.9531 - precision: 0.9531 - recall: 0.9531\n",
      "Epoch 15/16\n",
      "1215/1215 [==============================] - 124s 102ms/step - loss: 0.5720 - binary_accuracy: 0.9527 - precision: 0.9527 - recall: 0.9527\n",
      "Epoch 16/16\n",
      "1215/1215 [==============================] - 145s 119ms/step - loss: 0.5647 - binary_accuracy: 0.9526 - precision: 0.9526 - recall: 0.9526\n"
     ]
    }
   ],
   "source": [
    "training_history = model.fit(Xtrain,Ytrain,epochs=16,verbose=True,batch_size=15)\n",
    "# ,validation_split=0.15,shuffle=True"
   ]
  },
  {
   "cell_type": "code",
   "execution_count": 15,
   "metadata": {},
   "outputs": [
    {
     "data": {
      "image/png": "[encoded data removed]",
      "text/plain": [
       "<Figure size 1000x800 with 1 Axes>"
      ]
     },
     "metadata": {},
     "output_type": "display_data"
    },
    {
     "data": {
      "image/png": "[encoded data removed]",
      "text/plain": [
       "<Figure size 1000x800 with 1 Axes>"
      ]
     },
     "metadata": {},
     "output_type": "display_data"
    }
   ],
   "source": [
    "fig, ax = plt.subplots(figsize=(10,8))\n",
    "plt.subplot(2,1,1)\n",
    "plt.plot(training_history.history[\"binary_accuracy\"],label=\"Binary accuracy\")\n",
    "plt.legend()\n",
    "plt.xlabel(\"Epoch\")\n",
    "plt.ylabel(\"Metric value\")\n",
    "plt.show()\n",
    "\n",
    "fig, ax = plt.subplots(figsize=(10,8))\n",
    "plt.subplot(2,1,2)\n",
    "plt.plot(training_history.history[\"loss\"],label=\"Loss\")\n",
    "plt.legend()\n",
    "plt.xlabel(\"Epoch\")\n",
    "plt.ylabel(\"Loss\")\n",
    "plt.show()"
   ]
  },
  {
   "cell_type": "code",
   "execution_count": 17,
   "metadata": {},
   "outputs": [
    {
     "name": "stdout",
     "output_type": "stream",
     "text": [
      "143/143 [==============================] - 2s 15ms/step - loss: 0.5591 - binary_accuracy: 0.9517 - precision: 0.9517 - recall: 0.9517\n"
     ]
    }
   ],
   "source": [
    "results = model.evaluate(Xtest,Ytest)"
   ]
  },
  {
   "cell_type": "code",
   "execution_count": 19,
   "metadata": {},
   "outputs": [],
   "source": [
    "model.save(\"CAD_detection_model_20ppl.h5\")"
   ]
  }
 ],
 "metadata": {
  "kernelspec": {
   "display_name": "Python 3",
   "language": "python",
   "name": "python3"
  },
  "language_info": {
   "codemirror_mode": {
    "name": "ipython",
    "version": 3
   },
   "file_extension": ".py",
   "mimetype": "text/x-python",
   "name": "python",
   "nbconvert_exporter": "python",
   "pygments_lexer": "ipython3",
   "version": "3.10.5"
  },
  "orig_nbformat": 4
 },
 "nbformat": 4,
 "nbformat_minor": 2
}
