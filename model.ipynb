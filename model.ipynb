{
 "cells": [
  {
   "cell_type": "code",
   "execution_count": 1,
   "metadata": {},
   "outputs": [],
   "source": [
    "import tensorflow as tf\n",
    "import numpy as np\n",
    "import wfdb\n",
    "import pywt\n",
    "\n",
    "from sklearn.model_selection import train_test_split\n",
    "\n",
    "import matplotlib.pyplot as plt\n",
    "plt.style.use(\"seaborn\")"
   ]
  },
  {
   "cell_type": "code",
   "execution_count": 2,
   "metadata": {},
   "outputs": [],
   "source": [
    "sig_len = 1280"
   ]
  },
  {
   "attachments": {},
   "cell_type": "markdown",
   "metadata": {},
   "source": [
    "#### Helper functions"
   ]
  },
  {
   "cell_type": "code",
   "execution_count": 3,
   "metadata": {},
   "outputs": [],
   "source": [
    "# Function to read the data from a given path to the .hea file\n",
    "def read_data(path,type):\n",
    "    signals, fields = wfdb.rdsamp(path,sampfrom=0)\n",
    "    if(type==\"normal\"):\n",
    "        data_array = signals.T[1]\n",
    "    if(type==\"cad\"):\n",
    "        data_array = signals.T[0]\n",
    "\n",
    "    # Returns a data array of length that is a multiple of sig_len\n",
    "    return data_array[:sig_len*int(data_array.shape[0]/sig_len)]\n",
    "\n",
    "# Does wavelet transform to denoise the entire data array\n",
    "def wavelet_transform(data_array):\n",
    "    coefficient = pywt.wavedec(data_array,wavelet='db6',level=5)\n",
    "    coefficient[0] = np.zeros_like(coefficient[0])\n",
    "    transformed_signal = pywt.waverec(coefficient,wavelet='db6')\n",
    "\n",
    "    data_array = transformed_signal\n",
    "\n",
    "# Reshapes data array such that each row becomes signal segment of length sig_len\n",
    "def reshape_data(data_array):\n",
    "    return data_array.reshape(int(data_array.shape[0]/sig_len),sig_len)\n",
    "\n",
    "# Does the preprocessing on the data segment of length sig_len\n",
    "def augment_signal(data_array):\n",
    "    # Normalization\n",
    "    data_array = np.array((data_array-np.mean(data_array))/np.std(data_array))\n",
    "\n",
    "    # Generate random sinusoidal noise signal\n",
    "    starting_phase = np.random.uniform(-180, -90)\n",
    "    # ending_phase = np.random.uniform(90, 180)      # I am not using this ending phase part here\n",
    "    amplitude = np.random.uniform(-2, 2)\n",
    "    time = np.arange(data_array.shape[0])  \n",
    "    sinusoidal_noise_signal = amplitude * np.sin(2 * np.pi * time + np.radians(starting_phase))\n",
    "\n",
    "    # Generate random Gaussian noise signal\n",
    "    gaussian_noise_signal = np.random.normal(0, 0.05, len(data_array))\n",
    "\n",
    "    data_array = data_array + sinusoidal_noise_signal + gaussian_noise_signal\n",
    "\n",
    "# Converts the linear signal of shape (1280,) to an image of shape(211,24)\n",
    "def make_img(data_array):\n",
    "    result = []\n",
    "    idx=0\n",
    "    for i in range(0,24):\n",
    "        result.append(data_array[idx:idx+211])\n",
    "        idx+=40\n",
    "\n",
    "    return np.array(result).T"
   ]
  },
  {
   "attachments": {},
   "cell_type": "markdown",
   "metadata": {},
   "source": [
    "#### Model"
   ]
  },
  {
   "cell_type": "code",
   "execution_count": 4,
   "metadata": {},
   "outputs": [
    {
     "data": {
      "text/plain": [
       "'   The model propsosed in the paper is below   '"
      ]
     },
     "execution_count": 4,
     "metadata": {},
     "output_type": "execute_result"
    }
   ],
   "source": [
    "model = tf.keras.Sequential()\n",
    "model.add(tf.keras.Input(shape=(211,24)))\n",
    "model.add(tf.keras.layers.Conv1D(filters=40,kernel_size=(5),strides=1))\n",
    "model.add(tf.keras.layers.MaxPool1D(pool_size=2,strides=2,padding=\"valid\"))\n",
    "model.add(tf.keras.layers.Conv1D(filters=32,kernel_size=(3),strides=1))\n",
    "model.add(tf.keras.layers.MaxPool1D(pool_size=2,strides=2,padding=\"valid\"))\n",
    "model.add(tf.keras.layers.LSTM(units=32,return_sequences=True,recurrent_dropout=0.25,dropout=0.5))\n",
    "model.add(tf.keras.layers.LSTM(units=16,return_sequences=True,recurrent_dropout=0.25))\n",
    "model.add(tf.keras.layers.LSTM(units=4,return_sequences=False))\n",
    "model.add(tf.keras.layers.Dense(2,activation=\"softmax\"))\n",
    "\n",
    "\n",
    "'''   The model propsosed in the paper is below   '''\n",
    "# model = tf.keras.Sequential()\n",
    "# model.add(tf.keras.Input(shape=(211,24)))\n",
    "# model.add(tf.keras.layers.Conv1D(filters=40,kernel_size=(5),strides=1))\n",
    "# model.add(tf.keras.layers.MaxPool1D(pool_size=2,strides=2,padding=\"valid\"))\n",
    "# model.add(tf.keras.layers.Conv1D(filters=32,kernel_size=(3),strides=1))\n",
    "# model.add(tf.keras.layers.MaxPool1D(pool_size=2,strides=2,padding=\"valid\"))\n",
    "# model.add(tf.keras.layers.LSTM(units=32,return_sequences=True,recurrent_dropout=0.25,dropout=0.5))\n",
    "# model.add(tf.keras.layers.LSTM(units=16,return_sequences=True,recurrent_dropout=0.25))\n",
    "# model.add(tf.keras.layers.LSTM(units=4,return_sequences=False))\n",
    "# model.add(tf.keras.layers.Dense(1))"
   ]
  },
  {
   "cell_type": "code",
   "execution_count": 5,
   "metadata": {},
   "outputs": [
    {
     "name": "stdout",
     "output_type": "stream",
     "text": [
      "Model: \"sequential\"\n",
      "_________________________________________________________________\n",
      " Layer (type)                Output Shape              Param #   \n",
      "=================================================================\n",
      " conv1d (Conv1D)             (None, 207, 40)           4840      \n",
      "                                                                 \n",
      " max_pooling1d (MaxPooling1D  (None, 103, 40)          0         \n",
      " )                                                               \n",
      "                                                                 \n",
      " conv1d_1 (Conv1D)           (None, 101, 32)           3872      \n",
      "                                                                 \n",
      " max_pooling1d_1 (MaxPooling  (None, 50, 32)           0         \n",
      " 1D)                                                             \n",
      "                                                                 \n",
      " lstm (LSTM)                 (None, 50, 32)            8320      \n",
      "                                                                 \n",
      " lstm_1 (LSTM)               (None, 50, 16)            3136      \n",
      "                                                                 \n",
      " lstm_2 (LSTM)               (None, 4)                 336       \n",
      "                                                                 \n",
      " dense (Dense)               (None, 2)                 10        \n",
      "                                                                 \n",
      "=================================================================\n",
      "Total params: 20,514\n",
      "Trainable params: 20,514\n",
      "Non-trainable params: 0\n",
      "_________________________________________________________________\n"
     ]
    }
   ],
   "source": [
    "model.summary()"
   ]
  },
  {
   "cell_type": "code",
   "execution_count": 6,
   "metadata": {},
   "outputs": [],
   "source": [
    "model.compile(optimizer=tf.keras.optimizers.Adam(learning_rate=1e-6),\n",
    "              loss=tf.keras.losses.BinaryCrossentropy(),\n",
    "              metrics=[tf.keras.metrics.BinaryAccuracy(),tf.keras.metrics.Precision(),tf.keras.metrics.Recall()])\n",
    "\n",
    "# ,tf.keras.metrics.BinaryAccuracy(),tf.keras.metrics.Precision(),tf.keras.metrics.Recall()\n",
    "# tf.keras.metrics.Accuracy(),"
   ]
  },
  {
   "attachments": {},
   "cell_type": "markdown",
   "metadata": {},
   "source": [
    "#### Reading the data"
   ]
  },
  {
   "cell_type": "code",
   "execution_count": 7,
   "metadata": {},
   "outputs": [],
   "source": [
    "cad = {\n",
    "    1: r\"C:\\Users\\123na\\Downloads\\Heart Disease prediction\\Data\\CAD\\I01\",\n",
    "    2: r\"C:\\Users\\123na\\Downloads\\Heart Disease prediction\\Data\\CAD\\I02\"\n",
    "}\n",
    "\n",
    "normal = {\n",
    "    1: r\"C:\\Users\\123na\\Downloads\\Heart Disease prediction\\Data\\Healthy\\f2y05\",\n",
    "    2: r\"C:\\Users\\123na\\Downloads\\Heart Disease prediction\\Data\\Healthy\\f2y08\"\n",
    "}"
   ]
  },
  {
   "cell_type": "code",
   "execution_count": 8,
   "metadata": {},
   "outputs": [],
   "source": [
    "# Reading the data seperately to pick the proportion of the CAD and normal data \n",
    "\n",
    "# Reading the CAD data first\n",
    "cad_data = []\n",
    "cad_label = []\n",
    "for idx in cad:\n",
    "    # Read the data\n",
    "    data = read_data(cad[idx],type=\"cad\")\n",
    "\n",
    "    # Performing wavelet transform on the entire data\n",
    "    wavelet_transform(data)\n",
    "\n",
    "    #Reshape data array\n",
    "    data = reshape_data(data)\n",
    "    for row in data:\n",
    "        augment_signal(row)\n",
    "        image = make_img(row)\n",
    "        if(np.sum(np.isnan(image))==0): # We are getting some NaN values while reading data, we would just ignore data points that has NaN values\n",
    "            cad_data.append(image)\n",
    "            cad_label.append([1])\n",
    "\n",
    "cad_data = np.array(cad_data)\n",
    "cad_label = np.array(cad_label)\n",
    "\n",
    "\n",
    "\n",
    "# Reading the normal data\n",
    "normal_data = []\n",
    "normal_label = []\n",
    "for idx in normal:\n",
    "    # Read the data\n",
    "    data = read_data(normal[idx],type=\"normal\")\n",
    "\n",
    "    # Performing wavelet transform on the entire data\n",
    "    wavelet_transform(data)\n",
    "\n",
    "    #Reshape data array\n",
    "    data = reshape_data(data)\n",
    "    for row in data:\n",
    "        augment_signal(row)\n",
    "        image = make_img(row)\n",
    "        if(np.sum(np.isnan(image))==0):  # We are getting some NaN values while reading data, we would just ignore those NaN producing elements\n",
    "            normal_data.append(image)\n",
    "            normal_label.append([0])\n",
    "\n",
    "normal_data = np.array(normal_data)\n",
    "normal_label = np.array(normal_label)"
   ]
  },
  {
   "cell_type": "code",
   "execution_count": 9,
   "metadata": {},
   "outputs": [
    {
     "name": "stdout",
     "output_type": "stream",
     "text": [
      "(722, 211, 24) (2769, 211, 24)\n"
     ]
    }
   ],
   "source": [
    "print(cad_data.shape,normal_data.shape)\n",
    "\n",
    "# This is means that somehow only the normal_data had NaN values in it."
   ]
  },
  {
   "cell_type": "code",
   "execution_count": 10,
   "metadata": {},
   "outputs": [],
   "source": [
    "'''\n",
    "There are 2784 samples in normal_data and 722 samples in cad_data, and the paper had used them in a ration of 9:1 respectively.\n",
    "\n",
    "After filtering the NaN values we get 2769 and 722 data points respectively.\n",
    "\n",
    "'''\n",
    "\n",
    "np.random.shuffle(cad_data)       # Shuffling the data before taking a subset of the data\n",
    "cad_data = cad_data[:600]         # Taking a subset of the data\n",
    "cad_label = cad_label[:600]       # Taking the corresponding subset of labels\n",
    "\n",
    "np.random.shuffle(normal_data)    # Shuffling the normal data also"
   ]
  },
  {
   "cell_type": "code",
   "execution_count": 11,
   "metadata": {},
   "outputs": [],
   "source": [
    "# Combining the data and the labels by concatinating them\n",
    "X = np.concatenate([cad_data,normal_data])\n",
    "Y = np.concatenate([cad_label,normal_label])"
   ]
  },
  {
   "cell_type": "code",
   "execution_count": 12,
   "metadata": {},
   "outputs": [],
   "source": [
    "# Schuffling the data final time\n",
    "\n",
    "indices = np.arange(X.shape[0])\n",
    "np.random.shuffle(indices)\n",
    "\n",
    "X = X[indices]\n",
    "Y = Y[indices]\n",
    "\n",
    "Y = tf.keras.utils.to_categorical(Y)"
   ]
  },
  {
   "cell_type": "code",
   "execution_count": 13,
   "metadata": {},
   "outputs": [],
   "source": [
    "Xtrain, Xtest, Ytrain, Ytest = train_test_split(X,Y,test_size=0.2,shuffle=True)"
   ]
  },
  {
   "cell_type": "code",
   "execution_count": 14,
   "metadata": {},
   "outputs": [
    {
     "data": {
      "text/plain": [
       "(2695, 211, 24)"
      ]
     },
     "execution_count": 14,
     "metadata": {},
     "output_type": "execute_result"
    }
   ],
   "source": [
    "Xtrain.shape"
   ]
  },
  {
   "cell_type": "code",
   "execution_count": 15,
   "metadata": {},
   "outputs": [
    {
     "name": "stdout",
     "output_type": "stream",
     "text": [
      "0 0\n"
     ]
    }
   ],
   "source": [
    "print(np.sum(np.isnan(X)),np.sum(np.isnan(Y)))"
   ]
  },
  {
   "cell_type": "code",
   "execution_count": 16,
   "metadata": {},
   "outputs": [
    {
     "data": {
      "text/plain": [
       "(array([], dtype=int64), array([], dtype=int64), array([], dtype=int64))"
      ]
     },
     "execution_count": 16,
     "metadata": {},
     "output_type": "execute_result"
    }
   ],
   "source": [
    "np.where(np.isnan(X))"
   ]
  },
  {
   "attachments": {},
   "cell_type": "markdown",
   "metadata": {},
   "source": [
    "#### Training the model"
   ]
  },
  {
   "cell_type": "code",
   "execution_count": 17,
   "metadata": {},
   "outputs": [
    {
     "name": "stdout",
     "output_type": "stream",
     "text": [
      "Epoch 1/30\n",
      "180/180 [==============================] - 25s 74ms/step - loss: 0.6896 - binary_accuracy: 0.5898 - precision: 0.5898 - recall: 0.5896\n",
      "Epoch 2/30\n",
      "180/180 [==============================] - 14s 76ms/step - loss: 0.6877 - binary_accuracy: 0.6371 - precision: 0.6371 - recall: 0.6371\n",
      "Epoch 3/30\n",
      "180/180 [==============================] - 14s 77ms/step - loss: 0.6854 - binary_accuracy: 0.7072 - precision: 0.7072 - recall: 0.7072\n",
      "Epoch 4/30\n",
      "180/180 [==============================] - 13s 75ms/step - loss: 0.6838 - binary_accuracy: 0.7462 - precision: 0.7462 - recall: 0.7462\n",
      "Epoch 5/30\n",
      "180/180 [==============================] - 13s 73ms/step - loss: 0.6823 - binary_accuracy: 0.7725 - precision: 0.7725 - recall: 0.7725\n",
      "Epoch 6/30\n",
      "180/180 [==============================] - 14s 78ms/step - loss: 0.6808 - binary_accuracy: 0.8085 - precision: 0.8085 - recall: 0.8085\n",
      "Epoch 7/30\n",
      "180/180 [==============================] - 14s 78ms/step - loss: 0.6792 - binary_accuracy: 0.8419 - precision: 0.8419 - recall: 0.8419\n",
      "Epoch 8/30\n",
      "180/180 [==============================] - 14s 77ms/step - loss: 0.6781 - binary_accuracy: 0.8583 - precision: 0.8583 - recall: 0.8583\n",
      "Epoch 9/30\n",
      "180/180 [==============================] - 14s 78ms/step - loss: 0.6768 - binary_accuracy: 0.8716 - precision: 0.8716 - recall: 0.8716\n",
      "Epoch 10/30\n",
      "180/180 [==============================] - 14s 80ms/step - loss: 0.6754 - binary_accuracy: 0.8857 - precision: 0.8857 - recall: 0.8857\n",
      "Epoch 11/30\n",
      "180/180 [==============================] - 13s 75ms/step - loss: 0.6746 - binary_accuracy: 0.8891 - precision: 0.8891 - recall: 0.8891\n",
      "Epoch 12/30\n",
      "180/180 [==============================] - 14s 76ms/step - loss: 0.6732 - binary_accuracy: 0.9017 - precision: 0.9017 - recall: 0.9017\n",
      "Epoch 13/30\n",
      "180/180 [==============================] - 14s 76ms/step - loss: 0.6720 - binary_accuracy: 0.9065 - precision: 0.9065 - recall: 0.9065\n",
      "Epoch 14/30\n",
      "180/180 [==============================] - 14s 77ms/step - loss: 0.6706 - binary_accuracy: 0.9195 - precision: 0.9195 - recall: 0.9195\n",
      "Epoch 15/30\n",
      "180/180 [==============================] - 14s 79ms/step - loss: 0.6696 - binary_accuracy: 0.9250 - precision: 0.9250 - recall: 0.9250\n",
      "Epoch 16/30\n",
      "180/180 [==============================] - 14s 76ms/step - loss: 0.6685 - binary_accuracy: 0.9195 - precision: 0.9195 - recall: 0.9195\n",
      "Epoch 17/30\n",
      "180/180 [==============================] - 14s 75ms/step - loss: 0.6672 - binary_accuracy: 0.9306 - precision: 0.9306 - recall: 0.9306\n",
      "Epoch 18/30\n",
      "180/180 [==============================] - 14s 77ms/step - loss: 0.6663 - binary_accuracy: 0.9306 - precision: 0.9306 - recall: 0.9306\n",
      "Epoch 19/30\n",
      "180/180 [==============================] - 14s 78ms/step - loss: 0.6652 - binary_accuracy: 0.9358 - precision: 0.9358 - recall: 0.9358\n",
      "Epoch 20/30\n",
      "180/180 [==============================] - 14s 76ms/step - loss: 0.6637 - binary_accuracy: 0.9414 - precision: 0.9414 - recall: 0.9414\n",
      "Epoch 21/30\n",
      "180/180 [==============================] - 14s 77ms/step - loss: 0.6627 - binary_accuracy: 0.9425 - precision: 0.9425 - recall: 0.9425\n",
      "Epoch 22/30\n",
      "180/180 [==============================] - 14s 76ms/step - loss: 0.6615 - binary_accuracy: 0.9406 - precision: 0.9406 - recall: 0.9406\n",
      "Epoch 23/30\n",
      "180/180 [==============================] - 14s 80ms/step - loss: 0.6602 - binary_accuracy: 0.9451 - precision: 0.9451 - recall: 0.9451\n",
      "Epoch 24/30\n",
      "180/180 [==============================] - 14s 77ms/step - loss: 0.6589 - binary_accuracy: 0.9473 - precision: 0.9473 - recall: 0.9473\n",
      "Epoch 25/30\n",
      "180/180 [==============================] - 14s 76ms/step - loss: 0.6574 - binary_accuracy: 0.9495 - precision: 0.9495 - recall: 0.9495\n",
      "Epoch 26/30\n",
      "180/180 [==============================] - 14s 77ms/step - loss: 0.6565 - binary_accuracy: 0.9447 - precision: 0.9447 - recall: 0.9447\n",
      "Epoch 27/30\n",
      "180/180 [==============================] - 14s 76ms/step - loss: 0.6554 - binary_accuracy: 0.9469 - precision: 0.9469 - recall: 0.9469\n",
      "Epoch 28/30\n",
      "180/180 [==============================] - 15s 81ms/step - loss: 0.6539 - binary_accuracy: 0.9532 - precision: 0.9532 - recall: 0.9532\n",
      "Epoch 29/30\n",
      "180/180 [==============================] - 14s 80ms/step - loss: 0.6526 - binary_accuracy: 0.9529 - precision: 0.9529 - recall: 0.9529\n",
      "Epoch 30/30\n",
      "180/180 [==============================] - 14s 78ms/step - loss: 0.6513 - binary_accuracy: 0.9544 - precision: 0.9544 - recall: 0.9544\n"
     ]
    }
   ],
   "source": [
    "training_history = model.fit(Xtrain,Ytrain,epochs=30,verbose=True,batch_size=15)\n",
    "# ,validation_split=0.15,shuffle=True"
   ]
  },
  {
   "cell_type": "code",
   "execution_count": 18,
   "metadata": {},
   "outputs": [
    {
     "name": "stdout",
     "output_type": "stream",
     "text": [
      "22/22 [==============================] - 2s 12ms/step - loss: 0.6481 - binary_accuracy: 0.9629 - precision: 0.9629 - recall: 0.9629\n"
     ]
    },
    {
     "data": {
      "text/plain": [
       "[0.6481370329856873,\n",
       " 0.9629080295562744,\n",
       " 0.9629080295562744,\n",
       " 0.9629080295562744]"
      ]
     },
     "execution_count": 18,
     "metadata": {},
     "output_type": "execute_result"
    }
   ],
   "source": [
    "model.evaluate(Xtest,Ytest)"
   ]
  },
  {
   "cell_type": "code",
   "execution_count": 20,
   "metadata": {},
   "outputs": [
    {
     "data": {
      "image/png": "[encoded data removed]",
      "text/plain": [
       "<Figure size 1000x800 with 1 Axes>"
      ]
     },
     "metadata": {},
     "output_type": "display_data"
    },
    {
     "data": {
      "image/png": "[encoded data removed]",
      "text/plain": [
       "<Figure size 1000x800 with 1 Axes>"
      ]
     },
     "metadata": {},
     "output_type": "display_data"
    }
   ],
   "source": [
    "fig, ax = plt.subplots(figsize=(10,8))\n",
    "plt.subplot(2,1,1)\n",
    "plt.plot(training_history.history[\"binary_accuracy\"],label=\"Binary accuracy\")\n",
    "plt.legend()\n",
    "plt.xlabel(\"Epoch\")\n",
    "plt.ylabel(\"Metric value\")\n",
    "plt.show()\n",
    "\n",
    "fig, ax = plt.subplots(figsize=(10,8))\n",
    "plt.subplot(2,1,2)\n",
    "plt.plot(training_history.history[\"loss\"],label=\"Loss\")\n",
    "plt.legend()\n",
    "plt.xlabel(\"Epoch\")\n",
    "plt.ylabel(\"Loss\")\n",
    "plt.show()"
   ]
  },
  {
   "cell_type": "code",
   "execution_count": 21,
   "metadata": {},
   "outputs": [],
   "source": [
    "model.save('CAD_detection_model_4ppl.h5')"
   ]
  },
  {
   "cell_type": "code",
   "execution_count": 22,
   "metadata": {},
   "outputs": [],
   "source": [
    "test =tf.keras.models.load_model(r\"C:\\Users\\123na\\Downloads\\Heart Disease prediction\\Implementation\\Code\\CAD_detection_model_4ppl.h5\")"
   ]
  },
  {
   "cell_type": "code",
   "execution_count": 24,
   "metadata": {},
   "outputs": [
    {
     "name": "stdout",
     "output_type": "stream",
     "text": [
      "85/85 [==============================] - 2s 28ms/step - loss: 0.6477 - binary_accuracy: 0.9599 - precision: 0.9599 - recall: 0.9599\n"
     ]
    },
    {
     "data": {
      "text/plain": [
       "[0.647736668586731, 0.9599257707595825, 0.9599257707595825, 0.9599257707595825]"
      ]
     },
     "execution_count": 24,
     "metadata": {},
     "output_type": "execute_result"
    }
   ],
   "source": [
    "test.evaluate(Xtrain,Ytrain)"
   ]
  }
 ],
 "metadata": {
  "kernelspec": {
   "display_name": "Python 3",
   "language": "python",
   "name": "python3"
  },
  "language_info": {
   "codemirror_mode": {
    "name": "ipython",
    "version": 3
   },
   "file_extension": ".py",
   "mimetype": "text/x-python",
   "name": "python",
   "nbconvert_exporter": "python",
   "pygments_lexer": "ipython3",
   "version": "3.10.5"
  },
  "orig_nbformat": 4
 },
 "nbformat": 4,
 "nbformat_minor": 2
}
